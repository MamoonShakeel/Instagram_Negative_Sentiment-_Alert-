{
 "cells": [
  {
   "cell_type": "code",
   "execution_count": 1,
   "id": "d16525b7",
   "metadata": {},
   "outputs": [],
   "source": [
    "#!pip install --upgrade pip\n",
    "#!pip install torch \n",
    "#!pip install Tensorflow"
   ]
  },
  {
   "cell_type": "code",
   "execution_count": 2,
   "id": "42280b7b",
   "metadata": {},
   "outputs": [],
   "source": [
    "#!pip install --upgrade keras\n",
    "#!pip uninstall transformers\n",
    "#!pip install transformers"
   ]
  },
  {
   "cell_type": "code",
   "execution_count": 3,
   "id": "0a0ba496",
   "metadata": {},
   "outputs": [],
   "source": [
    "from bs4 import BeautifulSoup as bs\n",
    "from selenium import webdriver\n",
    "import time\n",
    "import re\n",
    "import pandas as pd\n",
    "#from langdetect import detect\n",
    "from selenium.webdriver.support import expected_conditions as EC\n",
    "from selenium.webdriver.common.by import By\n",
    "from selenium.webdriver.support.ui import WebDriverWait\n",
    "from selenium.common.exceptions import ElementNotVisibleException, TimeoutException\n",
    "from transformers import pipeline\n",
    "\n",
    "from Sentiment_Analysis import get_sentiment\n",
    "from smtp_mail_sentiment import send_email"
   ]
  },
  {
   "cell_type": "code",
   "execution_count": 4,
   "id": "8de8a3e5",
   "metadata": {},
   "outputs": [],
   "source": [
    "def init_driver(): \n",
    "    driver_path = \"C:/Users/hasee/Downloads/sentiment_analysis_proj/chromedriver.exe\"\n",
    "    options = webdriver.ChromeOptions()\n",
    "    driver = webdriver.Chrome(options=options)\n",
    "    driver.wait = WebDriverWait(driver, 25)\n",
    "    return driver"
   ]
  },
  {
   "cell_type": "code",
   "execution_count": 5,
   "id": "fdd2b90b",
   "metadata": {},
   "outputs": [],
   "source": [
    "# Initialize the WebDriver\n",
    "driver = init_driver()\n",
    "LOGIN_PAGE_URL = 'https://www.instagram.com'\n",
    "\n",
    "# Load the login page\n",
    "driver.get(LOGIN_PAGE_URL)\n",
    "\n",
    "# Find the username/email/phone number input field by XPath\n",
    "username_input = driver.find_element(By.XPATH, \"//input[@name='username']\")\n",
    "\n",
    "# Enter your username/email/phone number\n",
    "username_input.send_keys(\"_momin_321\")\n",
    "\n",
    "# Find the password input field by XPath\n",
    "password_input = driver.find_element(By.XPATH, \"//input[@name='password']\")\n",
    "\n",
    "# Enter your password\n",
    "password_input.send_keys(\"card@123\")\n",
    "\n",
    "# Find the login button by XPath\n",
    "login_button = driver.find_element(By.XPATH, \"//button[@type='submit']\")\n",
    "\n",
    "# Click the login button\n",
    "login_button.click()\n",
    "\n",
    "# Wait for the login process to complete (you can use WebDriverWait for better synchronization)\n",
    "time.sleep(5)"
   ]
  },
  {
   "cell_type": "code",
   "execution_count": 6,
   "id": "7d624476",
   "metadata": {},
   "outputs": [],
   "source": [
    "# Find the \"Save info\" button by its class\n",
    "save_info_button = driver.find_element(By.XPATH, \"//button[contains(@class, '_acan') and contains(@class, '_acap') and contains(@class, '_acas') and contains(@class, '_aj1-') and contains(@class, '_ap30') and text()='Save info']\")\n",
    "\n",
    "# Click the \"Save info\" button\n",
    "save_info_button.click()\n",
    "\n",
    "# Wait for some time to see the effect\n",
    "time.sleep(2)\n",
    "\n",
    "profile_main_page = 'https://www.instagram.com/thewaltonadventure/'\n",
    "\n",
    "driver.get(profile_main_page)\n",
    "time.sleep(2)\n",
    "driver.execute_script(\"window.scrollTo(0, document.body.scrollHeight);\")\n",
    "\n",
    "# Get the initial scroll position\n",
    "last_height = driver.execute_script(\"return document.body.scrollHeight\")\n",
    "\n",
    "# Scroll down the page repeatedly until you reach the end\n",
    "n = 0\n",
    "while True and n <= 2: #Scrolling 3 times\n",
    "    # Scroll to the bottom of the page\n",
    "    driver.execute_script(\"window.scrollTo(0, document.body.scrollHeight);\")\n",
    "    \n",
    "    # Wait for a short while to allow content to load\n",
    "    time.sleep(3)\n",
    "    \n",
    "    # Calculate the new scroll height and compare with the last scroll height\n",
    "    new_height = driver.execute_script(\"return document.body.scrollHeight\")\n",
    "    if new_height == last_height:\n",
    "        # If the scroll height has not changed, you've reached the end of the page\n",
    "        break\n",
    "    n += 1\n",
    "    # Update the last scroll height\n",
    "    last_height = new_height\n",
    "\n",
    "\n",
    "#driver.implicitly_wait(50)\n",
    "expanded_page_source = driver.page_source\n",
    "\n",
    "soup = bs(expanded_page_source, 'html.parser')\n",
    "posts = soup.find_all('a', {'class':'x1i10hfl'})\n",
    "\n",
    "pattern = r'/p/|/reel/'\n",
    "\n",
    "posts_links = []\n",
    "for i in posts:\n",
    "    link = i.get('href')\n",
    "    if re.search(pattern, link):\n",
    "        link = 'https://www.instagram.com'+ link\n",
    "        posts_links.append(link)  "
   ]
  },
  {
   "cell_type": "code",
   "execution_count": 8,
   "id": "85b98068",
   "metadata": {},
   "outputs": [],
   "source": [
    "link_column = []\n",
    "All_comments = []\n",
    "for link in posts_links[0:5]: # Using only 5 posts\n",
    "    post_address = link\n",
    "    driver.get(post_address)\n",
    "    time.sleep(2)\n",
    "    #driver.execute_script(\"window.scrollTo(0, document.body.scrollHeight);\")\n",
    "    expanded_page_source = driver.page_source\n",
    "    soup = bs(expanded_page_source, 'html.parser')\n",
    "    comments = soup.find_all('div', {'class':'x9f619'})\n",
    "    comments_list = []\n",
    "    for i in comments:  \n",
    "        try:\n",
    "            f = i.find('span', {'class':'x1lliihq x1plvlek xryxfnj x1n2onr6 x193iq5w xeuugli x1fj9vlw x13faqbe x1vvkbs x1s928wv xhkezso x1gmr53x x1cpjm7i x1fgarty x1943h6x x1i0vuye xvs91rp xo1l8bm x5n08af x10wh9bi x1wdrske x8viiok x18hxmgj'})\n",
    "            comment = f.text\n",
    "            if len(comment) > 25 and len(comment) < 500: \n",
    "                #print(comment,'\\n',)\n",
    "                comments_list.append(comment)\n",
    "        except:\n",
    "            continue\n",
    "        comments_list = list(set(comments_list))\n",
    "        links = [link for _ in range(len(comments_list))]\n",
    "    link_column.extend(links)\n",
    "    All_comments.extend(comments_list)"
   ]
  },
  {
   "cell_type": "code",
   "execution_count": 9,
   "id": "600cfc13",
   "metadata": {
    "scrolled": true
   },
   "outputs": [
    {
     "name": "stdout",
     "output_type": "stream",
     "text": [
      "WARNING:tensorflow:From C:\\Users\\hasee\\anaconda3\\lib\\site-packages\\tf_keras\\src\\losses.py:2976: The name tf.losses.sparse_softmax_cross_entropy is deprecated. Please use tf.compat.v1.losses.sparse_softmax_cross_entropy instead.\n",
      "\n"
     ]
    }
   ],
   "source": [
    "sentiments = [get_sentiment(comment) for comment in All_comments]"
   ]
  },
  {
   "cell_type": "code",
   "execution_count": 10,
   "id": "350469cb",
   "metadata": {},
   "outputs": [],
   "source": [
    "data = {'Links' : link_column,\n",
    "    'Comments' : All_comments,\n",
    "    'Sentiment': sentiments}\n",
    "dataframe = pd.DataFrame(data)"
   ]
  },
  {
   "cell_type": "code",
   "execution_count": 15,
   "id": "c299dd24",
   "metadata": {},
   "outputs": [
    {
     "data": {
      "text/html": [
       "<div>\n",
       "<style scoped>\n",
       "    .dataframe tbody tr th:only-of-type {\n",
       "        vertical-align: middle;\n",
       "    }\n",
       "\n",
       "    .dataframe tbody tr th {\n",
       "        vertical-align: top;\n",
       "    }\n",
       "\n",
       "    .dataframe thead th {\n",
       "        text-align: right;\n",
       "    }\n",
       "</style>\n",
       "<table border=\"1\" class=\"dataframe\">\n",
       "  <thead>\n",
       "    <tr style=\"text-align: right;\">\n",
       "      <th></th>\n",
       "      <th>Links</th>\n",
       "      <th>Comments</th>\n",
       "      <th>Sentiment</th>\n",
       "    </tr>\n",
       "  </thead>\n",
       "  <tbody>\n",
       "    <tr>\n",
       "      <th>0</th>\n",
       "      <td>https://www.instagram.com/p/CyHHGfwu_hu/</td>\n",
       "      <td>Love your photos 🤩 And thanks for inspiration ...</td>\n",
       "      <td>neutral</td>\n",
       "    </tr>\n",
       "    <tr>\n",
       "      <th>1</th>\n",
       "      <td>https://www.instagram.com/p/CyHHGfwu_hu/</td>\n",
       "      <td>Thx for sharing your family. Warms my heart an...</td>\n",
       "      <td>positive</td>\n",
       "    </tr>\n",
       "    <tr>\n",
       "      <th>2</th>\n",
       "      <td>https://www.instagram.com/p/CyHHGfwu_hu/</td>\n",
       "      <td>Love ur Zest &amp; Enthusiasm for Family &amp; the Int...</td>\n",
       "      <td>neutral</td>\n",
       "    </tr>\n",
       "    <tr>\n",
       "      <th>3</th>\n",
       "      <td>https://www.instagram.com/p/CyHHGfwu_hu/</td>\n",
       "      <td>Glad you re-introduced yourselves, your family...</td>\n",
       "      <td>neutral</td>\n",
       "    </tr>\n",
       "    <tr>\n",
       "      <th>4</th>\n",
       "      <td>https://www.instagram.com/p/CyHHGfwu_hu/</td>\n",
       "      <td>It’s been 20 years since I last saw you in Las...</td>\n",
       "      <td>positive</td>\n",
       "    </tr>\n",
       "  </tbody>\n",
       "</table>\n",
       "</div>"
      ],
      "text/plain": [
       "                                      Links  \\\n",
       "0  https://www.instagram.com/p/CyHHGfwu_hu/   \n",
       "1  https://www.instagram.com/p/CyHHGfwu_hu/   \n",
       "2  https://www.instagram.com/p/CyHHGfwu_hu/   \n",
       "3  https://www.instagram.com/p/CyHHGfwu_hu/   \n",
       "4  https://www.instagram.com/p/CyHHGfwu_hu/   \n",
       "\n",
       "                                            Comments Sentiment  \n",
       "0  Love your photos 🤩 And thanks for inspiration ...   neutral  \n",
       "1  Thx for sharing your family. Warms my heart an...  positive  \n",
       "2  Love ur Zest & Enthusiasm for Family & the Int...   neutral  \n",
       "3  Glad you re-introduced yourselves, your family...   neutral  \n",
       "4  It’s been 20 years since I last saw you in Las...  positive  "
      ]
     },
     "execution_count": 15,
     "metadata": {},
     "output_type": "execute_result"
    }
   ],
   "source": [
    "dataframe.head()"
   ]
  },
  {
   "cell_type": "code",
   "execution_count": 16,
   "id": "99bd012e",
   "metadata": {},
   "outputs": [],
   "source": [
    "neagtive_comment_df = dataframe[dataframe.Sentiment == 'negative']"
   ]
  },
  {
   "cell_type": "code",
   "execution_count": 17,
   "id": "6ce7b837",
   "metadata": {},
   "outputs": [
    {
     "data": {
      "text/html": [
       "<div>\n",
       "<style scoped>\n",
       "    .dataframe tbody tr th:only-of-type {\n",
       "        vertical-align: middle;\n",
       "    }\n",
       "\n",
       "    .dataframe tbody tr th {\n",
       "        vertical-align: top;\n",
       "    }\n",
       "\n",
       "    .dataframe thead th {\n",
       "        text-align: right;\n",
       "    }\n",
       "</style>\n",
       "<table border=\"1\" class=\"dataframe\">\n",
       "  <thead>\n",
       "    <tr style=\"text-align: right;\">\n",
       "      <th></th>\n",
       "      <th>Links</th>\n",
       "      <th>Comments</th>\n",
       "      <th>Sentiment</th>\n",
       "    </tr>\n",
       "  </thead>\n",
       "  <tbody>\n",
       "    <tr>\n",
       "      <th>9</th>\n",
       "      <td>https://www.instagram.com/reel/CxVwiTgrBbQ/</td>\n",
       "      <td>Instead of buying them smartphones and letting...</td>\n",
       "      <td>negative</td>\n",
       "    </tr>\n",
       "    <tr>\n",
       "      <th>48</th>\n",
       "      <td>https://www.instagram.com/reel/C3tFq0BO_S2/</td>\n",
       "      <td>lower center of gravity. I've been skiing sinc...</td>\n",
       "      <td>negative</td>\n",
       "    </tr>\n",
       "  </tbody>\n",
       "</table>\n",
       "</div>"
      ],
      "text/plain": [
       "                                          Links  \\\n",
       "9   https://www.instagram.com/reel/CxVwiTgrBbQ/   \n",
       "48  https://www.instagram.com/reel/C3tFq0BO_S2/   \n",
       "\n",
       "                                             Comments Sentiment  \n",
       "9   Instead of buying them smartphones and letting...  negative  \n",
       "48  lower center of gravity. I've been skiing sinc...  negative  "
      ]
     },
     "execution_count": 17,
     "metadata": {},
     "output_type": "execute_result"
    }
   ],
   "source": [
    "neagtive_comment_df"
   ]
  },
  {
   "cell_type": "code",
   "execution_count": 18,
   "id": "7ad8c14a",
   "metadata": {},
   "outputs": [],
   "source": [
    "# Example usage\n",
    "sender_email = \"mamoonshakeel80@gmail.com\"\n",
    "sender_password = \"azcdhmpjxbtkwsrf\"\n",
    "receiver_email = \"mominshakeel58896@gmail.com\""
   ]
  },
  {
   "cell_type": "code",
   "execution_count": 19,
   "id": "f7b51a6a",
   "metadata": {},
   "outputs": [
    {
     "name": "stdout",
     "output_type": "stream",
     "text": [
      "Mail sent\n",
      "Mail sent\n"
     ]
    }
   ],
   "source": [
    "for i,r in neagtive_comment_df.iterrows():\n",
    "    if r.Sentiment == 'negative':\n",
    "        comment_text = r.Comments\n",
    "        post_link = r.Links\n",
    "        # Send the email\n",
    "        send_email(sender_email, sender_password, receiver_email, comment_text,post_link)"
   ]
  },
  {
   "cell_type": "code",
   "execution_count": null,
   "id": "e9b2f6df",
   "metadata": {},
   "outputs": [],
   "source": []
  },
  {
   "cell_type": "code",
   "execution_count": null,
   "id": "967d3cbb",
   "metadata": {},
   "outputs": [],
   "source": []
  }
 ],
 "metadata": {
  "kernelspec": {
   "display_name": "Python 3 (ipykernel)",
   "language": "python",
   "name": "python3"
  },
  "language_info": {
   "codemirror_mode": {
    "name": "ipython",
    "version": 3
   },
   "file_extension": ".py",
   "mimetype": "text/x-python",
   "name": "python",
   "nbconvert_exporter": "python",
   "pygments_lexer": "ipython3",
   "version": "3.10.9"
  }
 },
 "nbformat": 4,
 "nbformat_minor": 5
}
